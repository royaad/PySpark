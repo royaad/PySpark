{
 "cells": [
  {
   "cell_type": "markdown",
   "metadata": {},
   "source": [
    "## Installing and Importing the PySpark Library"
   ]
  },
  {
   "cell_type": "markdown",
   "metadata": {},
   "source": [
    "To install the PySpark library:"
   ]
  },
  {
   "cell_type": "code",
   "execution_count": null,
   "metadata": {},
   "outputs": [],
   "source": [
    "!pip install pyspark"
   ]
  },
  {
   "cell_type": "markdown",
   "metadata": {},
   "source": [
    "To import the PySpark library:"
   ]
  },
  {
   "cell_type": "code",
   "execution_count": 1,
   "metadata": {},
   "outputs": [],
   "source": [
    "import pyspark"
   ]
  },
  {
   "cell_type": "markdown",
   "metadata": {},
   "source": [
    "## Starting a Spark Session"
   ]
  },
  {
   "cell_type": "markdown",
   "metadata": {},
   "source": [
    "importing SparkSession"
   ]
  },
  {
   "cell_type": "code",
   "execution_count": 2,
   "metadata": {},
   "outputs": [],
   "source": [
    "from pyspark.sql import SparkSession"
   ]
  },
  {
   "cell_type": "markdown",
   "metadata": {},
   "source": [
    "Creating a SparkSession instance"
   ]
  },
  {
   "cell_type": "code",
   "execution_count": 3,
   "metadata": {},
   "outputs": [],
   "source": [
    "spark_instance = SparkSession.builder.appName('Practice').getOrCreate()"
   ]
  },
  {
   "cell_type": "markdown",
   "metadata": {},
   "source": [
    "Checking Spark instance"
   ]
  },
  {
   "cell_type": "code",
   "execution_count": 3,
   "metadata": {},
   "outputs": [
    {
     "data": {
      "text/html": [
       "\n",
       "            <div>\n",
       "                <p><b>SparkSession - in-memory</b></p>\n",
       "                \n",
       "        <div>\n",
       "            <p><b>SparkContext</b></p>\n",
       "\n",
       "            <p><a href=\"http://Roy-Aad-PC:4040\">Spark UI</a></p>\n",
       "\n",
       "            <dl>\n",
       "              <dt>Version</dt>\n",
       "                <dd><code>v3.5.0</code></dd>\n",
       "              <dt>Master</dt>\n",
       "                <dd><code>local[*]</code></dd>\n",
       "              <dt>AppName</dt>\n",
       "                <dd><code>Practice</code></dd>\n",
       "            </dl>\n",
       "        </div>\n",
       "        \n",
       "            </div>\n",
       "        "
      ],
      "text/plain": [
       "<pyspark.sql.session.SparkSession at 0x1f8a8c93fd0>"
      ]
     },
     "execution_count": 3,
     "metadata": {},
     "output_type": "execute_result"
    }
   ],
   "source": [
    "spark_instance"
   ]
  },
  {
   "cell_type": "markdown",
   "metadata": {},
   "source": [
    "## Read a dataset with PySpark"
   ]
  },
  {
   "cell_type": "markdown",
   "metadata": {},
   "source": [
    "By default, the header is false. if we use the code `df_practice = spark_instance.read.csv(\"FilmLocations.csv\")`, the columns will be called `c0`, `c1`, etc...\n",
    "\n",
    "By default `inferSchema=False`, this means that all columns will be read as string. When `inferSchema=True`, then the column type will be automatically inferred by PySpark read function."
   ]
  },
  {
   "cell_type": "code",
   "execution_count": 4,
   "metadata": {},
   "outputs": [],
   "source": [
    "df_practice = spark_instance.read.csv(\"../datasets/FilmLocations.csv\", header=True, inferSchema=True)\n",
    "# An equivalent code will be\n",
    "# df_practice = spark_instance.read.option('header', 'true').csv(\"FilmLocations.csv\", inferSchema=True)"
   ]
  },
  {
   "cell_type": "markdown",
   "metadata": {},
   "source": [
    "We can use the `show(n)` method to display the dataframe. `n` is `20` by default."
   ]
  },
  {
   "cell_type": "code",
   "execution_count": 23,
   "metadata": {},
   "outputs": [
    {
     "name": "stdout",
     "output_type": "stream",
     "text": [
      "+--------------------+-----------+--------------------+--------------------+--------------------+--------------------+--------------------+--------------------+--------------+--------------------+--------------------+\n",
      "|               Title|ReleaseYear|           Locations|            FunFacts|   ProductionCompany|         Distributor|            Director|              Writer|        Actor1|              Actor2|              Actor3|\n",
      "+--------------------+-----------+--------------------+--------------------+--------------------+--------------------+--------------------+--------------------+--------------+--------------------+--------------------+\n",
      "|                 180|       2011|Epic Roasthouse (...|                NULL|         SPI Cinemas|                NULL|            Jayendra|Umarji Anuradha, ...|      Siddarth|        Nithya Menon|         Priya Anand|\n",
      "|                 180|       2011|Mason & Californi...|                NULL|         SPI Cinemas|                NULL|            Jayendra|Umarji Anuradha, ...|      Siddarth|        Nithya Menon|         Priya Anand|\n",
      "|                 180|       2011| Justin Herman Plaza|                NULL|         SPI Cinemas|                NULL|            Jayendra|Umarji Anuradha, ...|      Siddarth|        Nithya Menon|         Priya Anand|\n",
      "|                 180|       2011|200 block Market ...|                NULL|         SPI Cinemas|                NULL|            Jayendra|Umarji Anuradha, ...|      Siddarth|        Nithya Menon|         Priya Anand|\n",
      "|                 180|       2011|           City Hall|                NULL|         SPI Cinemas|                NULL|            Jayendra|Umarji Anuradha, ...|      Siddarth|        Nithya Menon|         Priya Anand|\n",
      "|                 180|       2011|Polk & Larkin Str...|                NULL|         SPI Cinemas|                NULL|            Jayendra|Umarji Anuradha, ...|      Siddarth|        Nithya Menon|         Priya Anand|\n",
      "|                 180|       2011|      Randall Museum|                NULL|         SPI Cinemas|                NULL|            Jayendra|Umarji Anuradha, ...|      Siddarth|        Nithya Menon|         Priya Anand|\n",
      "|                 180|       2011|      555 Market St.|                NULL|         SPI Cinemas|                NULL|            Jayendra|Umarji Anuradha, ...|      Siddarth|        Nithya Menon|         Priya Anand|\n",
      "|24 Hours on Craig...|       2005|                NULL|                NULL|Yerba Buena Produ...|     Zealot Pictures|Michael Ferris Gi...|                 N/A| Craig Newmark|                NULL|                NULL|\n",
      "|          Summertime|       2015|       Alamo Square |                NULL|Creative Monster ...|      7 Distribution|    Gabriele Muccino|    Gabriele Muccino| Jessica Rothe|        Scott Bakula|Matilda Anna Ingr...|\n",
      "|    Ballers Season 3|       2017|San Remo Hotel (2...|                NULL|Chori Perros Prod...|                 HBO|       Julian Farino|    Stephen Levinson|Dwayne Johnson|John David Washin...|  Omar Benson Miller|\n",
      "|     Chance Season 2|       2017|Waller St between...|                NULL|TVM Productions Inc.|                Hulu|       Rozann Dawson|Alexandra Cunningham|   Hugh Laurie|           Greta Lee|        Ethan Suplee|\n",
      "|     Chance Season 2|       2017|Palace of Fine Ar...|                NULL|TVM Productions Inc.|                Hulu|       Rozann Dawson|Alexandra Cunningham|   Hugh Laurie|           Greta Lee|        Ethan Suplee|\n",
      "|A Night Full of Rain|       1978| Embarcadero Freeway|Embarcadero Freew...|        Liberty Film|Warner Bros. Pict...|     Lina Wertmuller|     Lina Wertmuller|Candice Bergen|    Giancarlo Gianni|                NULL|\n",
      "|A Night Full of Rain|       1978|Fairmont Hotel (9...|In 1945 the Fairm...|        Liberty Film|Warner Bros. Pict...|     Lina Wertmuller|     Lina Wertmuller|Candice Bergen|    Giancarlo Gianni|                NULL|\n",
      "|A Night Full of Rain|       1978|San Francisco Chr...|The San Francisco...|        Liberty Film|Warner Bros. Pict...|     Lina Wertmuller|     Lina Wertmuller|Candice Bergen|    Giancarlo Gianni|                NULL|\n",
      "|A Night Full of Rain|       1978|Broadway (North B...|                NULL|        Liberty Film|Warner Bros. Pict...|     Lina Wertmuller|     Lina Wertmuller|Candice Bergen|    Giancarlo Gianni|                NULL|\n",
      "|     Chance Season 2|       2017|20th St between C...|                NULL|TVM Productions Inc.|                Hulu|       Rozann Dawson|Alexandra Cunningham|   Hugh Laurie|           Greta Lee|        Ethan Suplee|\n",
      "|      Vegas in Space|       1992|Under Highway 101...|                NULL| Troma Entertainment|MCA/Universal Hom...|     Phillip R. Ford|          Doris Fish|    Doris Fish|              Miss X|        Ginger Quest|\n",
      "|      Vegas in Space|       1992|   544 Natoma (SOMA)|                NULL| Troma Entertainment|MCA/Universal Hom...|     Phillip R. Ford|          Doris Fish|    Doris Fish|              Miss X|        Ginger Quest|\n",
      "+--------------------+-----------+--------------------+--------------------+--------------------+--------------------+--------------------+--------------------+--------------+--------------------+--------------------+\n",
      "only showing top 20 rows\n",
      "\n"
     ]
    }
   ],
   "source": [
    "df_practice.show()"
   ]
  },
  {
   "cell_type": "markdown",
   "metadata": {},
   "source": [
    "Or, the `head(n)` method to display the first `n` rows of the dataframe"
   ]
  },
  {
   "cell_type": "code",
   "execution_count": 24,
   "metadata": {},
   "outputs": [
    {
     "data": {
      "text/plain": [
       "[Row(Title='180', ReleaseYear='2011', Locations='Epic Roasthouse (399 Embarcadero)', FunFacts=None, ProductionCompany='SPI Cinemas', Distributor=None, Director='Jayendra', Writer='Umarji Anuradha, Jayendra, Aarthi Sriram, & Suba ', Actor1='Siddarth', Actor2='Nithya Menon', Actor3='Priya Anand'),\n",
       " Row(Title='180', ReleaseYear='2011', Locations='Mason & California Streets (Nob Hill)', FunFacts=None, ProductionCompany='SPI Cinemas', Distributor=None, Director='Jayendra', Writer='Umarji Anuradha, Jayendra, Aarthi Sriram, & Suba ', Actor1='Siddarth', Actor2='Nithya Menon', Actor3='Priya Anand'),\n",
       " Row(Title='180', ReleaseYear='2011', Locations='Justin Herman Plaza', FunFacts=None, ProductionCompany='SPI Cinemas', Distributor=None, Director='Jayendra', Writer='Umarji Anuradha, Jayendra, Aarthi Sriram, & Suba ', Actor1='Siddarth', Actor2='Nithya Menon', Actor3='Priya Anand'),\n",
       " Row(Title='180', ReleaseYear='2011', Locations='200 block Market Street', FunFacts=None, ProductionCompany='SPI Cinemas', Distributor=None, Director='Jayendra', Writer='Umarji Anuradha, Jayendra, Aarthi Sriram, & Suba ', Actor1='Siddarth', Actor2='Nithya Menon', Actor3='Priya Anand'),\n",
       " Row(Title='180', ReleaseYear='2011', Locations='City Hall', FunFacts=None, ProductionCompany='SPI Cinemas', Distributor=None, Director='Jayendra', Writer='Umarji Anuradha, Jayendra, Aarthi Sriram, & Suba ', Actor1='Siddarth', Actor2='Nithya Menon', Actor3='Priya Anand')]"
      ]
     },
     "execution_count": 24,
     "metadata": {},
     "output_type": "execute_result"
    }
   ],
   "source": [
    "df_practice.head(5)"
   ]
  },
  {
   "cell_type": "markdown",
   "metadata": {},
   "source": [
    "To get the column names,"
   ]
  },
  {
   "cell_type": "code",
   "execution_count": 27,
   "metadata": {},
   "outputs": [
    {
     "data": {
      "text/plain": [
       "['Title',\n",
       " 'ReleaseYear',\n",
       " 'Locations',\n",
       " 'FunFacts',\n",
       " 'ProductionCompany',\n",
       " 'Distributor',\n",
       " 'Director',\n",
       " 'Writer',\n",
       " 'Actor1',\n",
       " 'Actor2',\n",
       " 'Actor3']"
      ]
     },
     "execution_count": 27,
     "metadata": {},
     "output_type": "execute_result"
    }
   ],
   "source": [
    "df_practice.columns"
   ]
  },
  {
   "cell_type": "markdown",
   "metadata": {},
   "source": [
    "If we want to see the DB schema, then we can use:"
   ]
  },
  {
   "cell_type": "code",
   "execution_count": 26,
   "metadata": {},
   "outputs": [
    {
     "name": "stdout",
     "output_type": "stream",
     "text": [
      "root\n",
      " |-- Title: string (nullable = true)\n",
      " |-- ReleaseYear: string (nullable = true)\n",
      " |-- Locations: string (nullable = true)\n",
      " |-- FunFacts: string (nullable = true)\n",
      " |-- ProductionCompany: string (nullable = true)\n",
      " |-- Distributor: string (nullable = true)\n",
      " |-- Director: string (nullable = true)\n",
      " |-- Writer: string (nullable = true)\n",
      " |-- Actor1: string (nullable = true)\n",
      " |-- Actor2: string (nullable = true)\n",
      " |-- Actor3: string (nullable = true)\n",
      "\n"
     ]
    }
   ],
   "source": [
    "df_practice.printSchema()"
   ]
  },
  {
   "cell_type": "markdown",
   "metadata": {},
   "source": [
    "## Selecting Columns and Indexing"
   ]
  },
  {
   "cell_type": "markdown",
   "metadata": {},
   "source": [
    "To select a single column using its name,"
   ]
  },
  {
   "cell_type": "code",
   "execution_count": 30,
   "metadata": {},
   "outputs": [
    {
     "name": "stdout",
     "output_type": "stream",
     "text": [
      "+-----------+\n",
      "|ReleaseYear|\n",
      "+-----------+\n",
      "|       2011|\n",
      "|       2011|\n",
      "|       2011|\n",
      "|       2011|\n",
      "|       2011|\n",
      "|       2011|\n",
      "|       2011|\n",
      "|       2011|\n",
      "|       2005|\n",
      "|       2015|\n",
      "+-----------+\n",
      "only showing top 10 rows\n",
      "\n"
     ]
    }
   ],
   "source": [
    "df_practice.select('ReleaseYear').show(10)"
   ]
  },
  {
   "cell_type": "markdown",
   "metadata": {},
   "source": [
    "To select multiple columns,"
   ]
  },
  {
   "cell_type": "code",
   "execution_count": 32,
   "metadata": {},
   "outputs": [
    {
     "name": "stdout",
     "output_type": "stream",
     "text": [
      "+--------------------+-----------+\n",
      "|               Title|ReleaseYear|\n",
      "+--------------------+-----------+\n",
      "|                 180|       2011|\n",
      "|                 180|       2011|\n",
      "|                 180|       2011|\n",
      "|                 180|       2011|\n",
      "|                 180|       2011|\n",
      "|                 180|       2011|\n",
      "|                 180|       2011|\n",
      "|                 180|       2011|\n",
      "|24 Hours on Craig...|       2005|\n",
      "|          Summertime|       2015|\n",
      "+--------------------+-----------+\n",
      "only showing top 10 rows\n",
      "\n"
     ]
    }
   ],
   "source": [
    "df_practice.select(['Title', 'ReleaseYear']).show(10)"
   ]
  },
  {
   "cell_type": "markdown",
   "metadata": {},
   "source": [
    "To check data types,"
   ]
  },
  {
   "cell_type": "code",
   "execution_count": 33,
   "metadata": {},
   "outputs": [
    {
     "data": {
      "text/plain": [
       "[('Title', 'string'),\n",
       " ('ReleaseYear', 'string'),\n",
       " ('Locations', 'string'),\n",
       " ('FunFacts', 'string'),\n",
       " ('ProductionCompany', 'string'),\n",
       " ('Distributor', 'string'),\n",
       " ('Director', 'string'),\n",
       " ('Writer', 'string'),\n",
       " ('Actor1', 'string'),\n",
       " ('Actor2', 'string'),\n",
       " ('Actor3', 'string')]"
      ]
     },
     "execution_count": 33,
     "metadata": {},
     "output_type": "execute_result"
    }
   ],
   "source": [
    "df_practice.dtypes"
   ]
  },
  {
   "cell_type": "markdown",
   "metadata": {},
   "source": [
    "We see that the 'ReleaseYear' is still a string. We can cast the column type to an integer using the `withColumn()` method.\n",
    "\n",
    "**N.B.** You can find various ways to cast a column type in [this link](https://sparkbyexamples.com/pyspark/pyspark-cast-column-type/)."
   ]
  },
  {
   "cell_type": "code",
   "execution_count": 7,
   "metadata": {},
   "outputs": [
    {
     "data": {
      "text/plain": [
       "[('Title', 'string'),\n",
       " ('ReleaseYear', 'int'),\n",
       " ('Locations', 'string'),\n",
       " ('FunFacts', 'string'),\n",
       " ('ProductionCompany', 'string'),\n",
       " ('Distributor', 'string'),\n",
       " ('Director', 'string'),\n",
       " ('Writer', 'string'),\n",
       " ('Actor1', 'string'),\n",
       " ('Actor2', 'string'),\n",
       " ('Actor3', 'string')]"
      ]
     },
     "execution_count": 7,
     "metadata": {},
     "output_type": "execute_result"
    }
   ],
   "source": [
    "df_practice.withColumn('ReleaseYear', df_practice.ReleaseYear.cast('int')).dtypes"
   ]
  },
  {
   "cell_type": "markdown",
   "metadata": {},
   "source": [
    "The previous operation is not inplace."
   ]
  },
  {
   "cell_type": "code",
   "execution_count": 6,
   "metadata": {},
   "outputs": [
    {
     "data": {
      "text/plain": [
       "[('Title', 'string'),\n",
       " ('ReleaseYear', 'string'),\n",
       " ('Locations', 'string'),\n",
       " ('FunFacts', 'string'),\n",
       " ('ProductionCompany', 'string'),\n",
       " ('Distributor', 'string'),\n",
       " ('Director', 'string'),\n",
       " ('Writer', 'string'),\n",
       " ('Actor1', 'string'),\n",
       " ('Actor2', 'string'),\n",
       " ('Actor3', 'string')]"
      ]
     },
     "execution_count": 6,
     "metadata": {},
     "output_type": "execute_result"
    }
   ],
   "source": [
    "df_practice.dtypes"
   ]
  },
  {
   "cell_type": "markdown",
   "metadata": {},
   "source": [
    "To get a descriptive summary table of the dataframe,"
   ]
  },
  {
   "cell_type": "code",
   "execution_count": 36,
   "metadata": {},
   "outputs": [
    {
     "name": "stdout",
     "output_type": "stream",
     "text": [
      "+-------+-----------------+------------------+--------------------+--------------------+--------------------+--------------------+--------------+--------------------+-------------+-------------+--------------+\n",
      "|summary|            Title|       ReleaseYear|           Locations|            FunFacts|   ProductionCompany|         Distributor|      Director|              Writer|       Actor1|       Actor2|        Actor3|\n",
      "+-------+-----------------+------------------+--------------------+--------------------+--------------------+--------------------+--------------+--------------------+-------------+-------------+--------------+\n",
      "|  count|             3463|              3462|                3354|                 946|                3460|                3218|          3414|                3366|         3358|         3180|          2426|\n",
      "|   mean|            288.0| 1999.609841827768|                NULL|                NULL|                NULL|                NULL|          NULL|                NULL|         NULL|         NULL|          NULL|\n",
      "| stddev|445.2954075667073|19.777848471448316|                NULL|                NULL|                NULL|                NULL|          NULL|                NULL|         NULL|         NULL|          NULL|\n",
      "|    min| \",\"Pushing Dead |              LLC\"|\"\"\"Metzger's Apt\"...|\"Called \"\"1001 Fr...| a local baseball...| Vaillancourt jum...| Adam Shankman|        Aaron Sorkin|Aaron Eckhart| Diane Keaton|    Alan Arkin|\n",
      "|    max|           Zodiac|   Warner Brothers|skyline/ exterior...|two paragliders l...|            unlisted|     Zealot Pictures|Zal Batmanglij|Zal Batmanglij, B...|   Zasu Pitts|  Yul Brynner|Zachary Quinto|\n",
      "+-------+-----------------+------------------+--------------------+--------------------+--------------------+--------------------+--------------+--------------------+-------------+-------------+--------------+\n",
      "\n"
     ]
    }
   ],
   "source": [
    "df_practice.describe().show()"
   ]
  },
  {
   "cell_type": "markdown",
   "metadata": {},
   "source": [
    "To add a column,"
   ]
  },
  {
   "cell_type": "code",
   "execution_count": 39,
   "metadata": {},
   "outputs": [],
   "source": [
    "new_df = df_practice.withColumn('ReleaseYear plus 2', df_practice['ReleaseYear']+2)"
   ]
  },
  {
   "cell_type": "markdown",
   "metadata": {},
   "source": [
    "The `withColumn` method is not an inplace operation (i.e. does not change the original dataframe). We need to assign it to the `new_df` dataframe. The `withColumn` method will automatically attempt to cast the column from string to double and add 2 to it."
   ]
  },
  {
   "cell_type": "code",
   "execution_count": 40,
   "metadata": {},
   "outputs": [
    {
     "name": "stdout",
     "output_type": "stream",
     "text": [
      "+--------------------+-----------+--------------------+--------+--------------------+---------------+--------------------+--------------------+-------------+------------+--------------------+------------------+\n",
      "|               Title|ReleaseYear|           Locations|FunFacts|   ProductionCompany|    Distributor|            Director|              Writer|       Actor1|      Actor2|              Actor3|ReleaseYear plus 2|\n",
      "+--------------------+-----------+--------------------+--------+--------------------+---------------+--------------------+--------------------+-------------+------------+--------------------+------------------+\n",
      "|                 180|       2011|Epic Roasthouse (...|    NULL|         SPI Cinemas|           NULL|            Jayendra|Umarji Anuradha, ...|     Siddarth|Nithya Menon|         Priya Anand|            2013.0|\n",
      "|                 180|       2011|Mason & Californi...|    NULL|         SPI Cinemas|           NULL|            Jayendra|Umarji Anuradha, ...|     Siddarth|Nithya Menon|         Priya Anand|            2013.0|\n",
      "|                 180|       2011| Justin Herman Plaza|    NULL|         SPI Cinemas|           NULL|            Jayendra|Umarji Anuradha, ...|     Siddarth|Nithya Menon|         Priya Anand|            2013.0|\n",
      "|                 180|       2011|200 block Market ...|    NULL|         SPI Cinemas|           NULL|            Jayendra|Umarji Anuradha, ...|     Siddarth|Nithya Menon|         Priya Anand|            2013.0|\n",
      "|                 180|       2011|           City Hall|    NULL|         SPI Cinemas|           NULL|            Jayendra|Umarji Anuradha, ...|     Siddarth|Nithya Menon|         Priya Anand|            2013.0|\n",
      "|                 180|       2011|Polk & Larkin Str...|    NULL|         SPI Cinemas|           NULL|            Jayendra|Umarji Anuradha, ...|     Siddarth|Nithya Menon|         Priya Anand|            2013.0|\n",
      "|                 180|       2011|      Randall Museum|    NULL|         SPI Cinemas|           NULL|            Jayendra|Umarji Anuradha, ...|     Siddarth|Nithya Menon|         Priya Anand|            2013.0|\n",
      "|                 180|       2011|      555 Market St.|    NULL|         SPI Cinemas|           NULL|            Jayendra|Umarji Anuradha, ...|     Siddarth|Nithya Menon|         Priya Anand|            2013.0|\n",
      "|24 Hours on Craig...|       2005|                NULL|    NULL|Yerba Buena Produ...|Zealot Pictures|Michael Ferris Gi...|                 N/A|Craig Newmark|        NULL|                NULL|            2007.0|\n",
      "|          Summertime|       2015|       Alamo Square |    NULL|Creative Monster ...| 7 Distribution|    Gabriele Muccino|    Gabriele Muccino|Jessica Rothe|Scott Bakula|Matilda Anna Ingr...|            2017.0|\n",
      "+--------------------+-----------+--------------------+--------+--------------------+---------------+--------------------+--------------------+-------------+------------+--------------------+------------------+\n",
      "only showing top 10 rows\n",
      "\n"
     ]
    }
   ],
   "source": [
    "new_df.show(10)"
   ]
  },
  {
   "cell_type": "markdown",
   "metadata": {},
   "source": [
    "We see that in the previous code, PySpark casted 'ReleaseYear' to `double`. It makes more sense to cast it to `int`. We can, therefore, cast 'ReleaseYear' to `int` before doing the arithmetic operation."
   ]
  },
  {
   "cell_type": "code",
   "execution_count": 8,
   "metadata": {},
   "outputs": [
    {
     "name": "stdout",
     "output_type": "stream",
     "text": [
      "+--------------------+-----------+--------------------+--------+--------------------+---------------+--------------------+--------------------+-------------+------------+--------------------+------------------+\n",
      "|               Title|ReleaseYear|           Locations|FunFacts|   ProductionCompany|    Distributor|            Director|              Writer|       Actor1|      Actor2|              Actor3|ReleaseYear plus 2|\n",
      "+--------------------+-----------+--------------------+--------+--------------------+---------------+--------------------+--------------------+-------------+------------+--------------------+------------------+\n",
      "|                 180|       2011|Epic Roasthouse (...|    NULL|         SPI Cinemas|           NULL|            Jayendra|Umarji Anuradha, ...|     Siddarth|Nithya Menon|         Priya Anand|              2013|\n",
      "|                 180|       2011|Mason & Californi...|    NULL|         SPI Cinemas|           NULL|            Jayendra|Umarji Anuradha, ...|     Siddarth|Nithya Menon|         Priya Anand|              2013|\n",
      "|                 180|       2011| Justin Herman Plaza|    NULL|         SPI Cinemas|           NULL|            Jayendra|Umarji Anuradha, ...|     Siddarth|Nithya Menon|         Priya Anand|              2013|\n",
      "|                 180|       2011|200 block Market ...|    NULL|         SPI Cinemas|           NULL|            Jayendra|Umarji Anuradha, ...|     Siddarth|Nithya Menon|         Priya Anand|              2013|\n",
      "|                 180|       2011|           City Hall|    NULL|         SPI Cinemas|           NULL|            Jayendra|Umarji Anuradha, ...|     Siddarth|Nithya Menon|         Priya Anand|              2013|\n",
      "|                 180|       2011|Polk & Larkin Str...|    NULL|         SPI Cinemas|           NULL|            Jayendra|Umarji Anuradha, ...|     Siddarth|Nithya Menon|         Priya Anand|              2013|\n",
      "|                 180|       2011|      Randall Museum|    NULL|         SPI Cinemas|           NULL|            Jayendra|Umarji Anuradha, ...|     Siddarth|Nithya Menon|         Priya Anand|              2013|\n",
      "|                 180|       2011|      555 Market St.|    NULL|         SPI Cinemas|           NULL|            Jayendra|Umarji Anuradha, ...|     Siddarth|Nithya Menon|         Priya Anand|              2013|\n",
      "|24 Hours on Craig...|       2005|                NULL|    NULL|Yerba Buena Produ...|Zealot Pictures|Michael Ferris Gi...|                 N/A|Craig Newmark|        NULL|                NULL|              2007|\n",
      "|          Summertime|       2015|       Alamo Square |    NULL|Creative Monster ...| 7 Distribution|    Gabriele Muccino|    Gabriele Muccino|Jessica Rothe|Scott Bakula|Matilda Anna Ingr...|              2017|\n",
      "+--------------------+-----------+--------------------+--------+--------------------+---------------+--------------------+--------------------+-------------+------------+--------------------+------------------+\n",
      "only showing top 10 rows\n",
      "\n"
     ]
    }
   ],
   "source": [
    "df_practice.withColumn('ReleaseYear + 2', df_practice.ReleaseYear.cast('int')+2).show(10)"
   ]
  },
  {
   "cell_type": "markdown",
   "metadata": {},
   "source": [
    "To drop a column,"
   ]
  },
  {
   "cell_type": "code",
   "execution_count": 43,
   "metadata": {},
   "outputs": [],
   "source": [
    "new_df = new_df.drop('ReleaseYear plus 2')"
   ]
  },
  {
   "cell_type": "markdown",
   "metadata": {},
   "source": [
    "Again, this is not an inplace operation, so we need to assign it to the `new_df` variable."
   ]
  },
  {
   "cell_type": "code",
   "execution_count": 44,
   "metadata": {},
   "outputs": [
    {
     "name": "stdout",
     "output_type": "stream",
     "text": [
      "+--------------------+-----------+--------------------+--------+--------------------+---------------+--------------------+--------------------+-------------+------------+--------------------+\n",
      "|               Title|ReleaseYear|           Locations|FunFacts|   ProductionCompany|    Distributor|            Director|              Writer|       Actor1|      Actor2|              Actor3|\n",
      "+--------------------+-----------+--------------------+--------+--------------------+---------------+--------------------+--------------------+-------------+------------+--------------------+\n",
      "|                 180|       2011|Epic Roasthouse (...|    NULL|         SPI Cinemas|           NULL|            Jayendra|Umarji Anuradha, ...|     Siddarth|Nithya Menon|         Priya Anand|\n",
      "|                 180|       2011|Mason & Californi...|    NULL|         SPI Cinemas|           NULL|            Jayendra|Umarji Anuradha, ...|     Siddarth|Nithya Menon|         Priya Anand|\n",
      "|                 180|       2011| Justin Herman Plaza|    NULL|         SPI Cinemas|           NULL|            Jayendra|Umarji Anuradha, ...|     Siddarth|Nithya Menon|         Priya Anand|\n",
      "|                 180|       2011|200 block Market ...|    NULL|         SPI Cinemas|           NULL|            Jayendra|Umarji Anuradha, ...|     Siddarth|Nithya Menon|         Priya Anand|\n",
      "|                 180|       2011|           City Hall|    NULL|         SPI Cinemas|           NULL|            Jayendra|Umarji Anuradha, ...|     Siddarth|Nithya Menon|         Priya Anand|\n",
      "|                 180|       2011|Polk & Larkin Str...|    NULL|         SPI Cinemas|           NULL|            Jayendra|Umarji Anuradha, ...|     Siddarth|Nithya Menon|         Priya Anand|\n",
      "|                 180|       2011|      Randall Museum|    NULL|         SPI Cinemas|           NULL|            Jayendra|Umarji Anuradha, ...|     Siddarth|Nithya Menon|         Priya Anand|\n",
      "|                 180|       2011|      555 Market St.|    NULL|         SPI Cinemas|           NULL|            Jayendra|Umarji Anuradha, ...|     Siddarth|Nithya Menon|         Priya Anand|\n",
      "|24 Hours on Craig...|       2005|                NULL|    NULL|Yerba Buena Produ...|Zealot Pictures|Michael Ferris Gi...|                 N/A|Craig Newmark|        NULL|                NULL|\n",
      "|          Summertime|       2015|       Alamo Square |    NULL|Creative Monster ...| 7 Distribution|    Gabriele Muccino|    Gabriele Muccino|Jessica Rothe|Scott Bakula|Matilda Anna Ingr...|\n",
      "+--------------------+-----------+--------------------+--------+--------------------+---------------+--------------------+--------------------+-------------+------------+--------------------+\n",
      "only showing top 10 rows\n",
      "\n"
     ]
    }
   ],
   "source": [
    "new_df.show(10)"
   ]
  },
  {
   "cell_type": "markdown",
   "metadata": {},
   "source": [
    "To rename a column,\n",
    "\n",
    "**N.B.** This is also not an inplace operation."
   ]
  },
  {
   "cell_type": "code",
   "execution_count": 47,
   "metadata": {},
   "outputs": [
    {
     "name": "stdout",
     "output_type": "stream",
     "text": [
      "+--------------------+----+--------------------+--------+--------------------+---------------+--------------------+--------------------+-------------+------------+--------------------+\n",
      "|               Title|Year|           Locations|FunFacts|   ProductionCompany|    Distributor|            Director|              Writer|       Actor1|      Actor2|              Actor3|\n",
      "+--------------------+----+--------------------+--------+--------------------+---------------+--------------------+--------------------+-------------+------------+--------------------+\n",
      "|                 180|2011|Epic Roasthouse (...|    NULL|         SPI Cinemas|           NULL|            Jayendra|Umarji Anuradha, ...|     Siddarth|Nithya Menon|         Priya Anand|\n",
      "|                 180|2011|Mason & Californi...|    NULL|         SPI Cinemas|           NULL|            Jayendra|Umarji Anuradha, ...|     Siddarth|Nithya Menon|         Priya Anand|\n",
      "|                 180|2011| Justin Herman Plaza|    NULL|         SPI Cinemas|           NULL|            Jayendra|Umarji Anuradha, ...|     Siddarth|Nithya Menon|         Priya Anand|\n",
      "|                 180|2011|200 block Market ...|    NULL|         SPI Cinemas|           NULL|            Jayendra|Umarji Anuradha, ...|     Siddarth|Nithya Menon|         Priya Anand|\n",
      "|                 180|2011|           City Hall|    NULL|         SPI Cinemas|           NULL|            Jayendra|Umarji Anuradha, ...|     Siddarth|Nithya Menon|         Priya Anand|\n",
      "|                 180|2011|Polk & Larkin Str...|    NULL|         SPI Cinemas|           NULL|            Jayendra|Umarji Anuradha, ...|     Siddarth|Nithya Menon|         Priya Anand|\n",
      "|                 180|2011|      Randall Museum|    NULL|         SPI Cinemas|           NULL|            Jayendra|Umarji Anuradha, ...|     Siddarth|Nithya Menon|         Priya Anand|\n",
      "|                 180|2011|      555 Market St.|    NULL|         SPI Cinemas|           NULL|            Jayendra|Umarji Anuradha, ...|     Siddarth|Nithya Menon|         Priya Anand|\n",
      "|24 Hours on Craig...|2005|                NULL|    NULL|Yerba Buena Produ...|Zealot Pictures|Michael Ferris Gi...|                 N/A|Craig Newmark|        NULL|                NULL|\n",
      "|          Summertime|2015|       Alamo Square |    NULL|Creative Monster ...| 7 Distribution|    Gabriele Muccino|    Gabriele Muccino|Jessica Rothe|Scott Bakula|Matilda Anna Ingr...|\n",
      "+--------------------+----+--------------------+--------+--------------------+---------------+--------------------+--------------------+-------------+------------+--------------------+\n",
      "only showing top 10 rows\n",
      "\n"
     ]
    }
   ],
   "source": [
    "df_practice.withColumnRenamed('ReleaseYear', 'Year').show(10)"
   ]
  },
  {
   "cell_type": "markdown",
   "metadata": {},
   "source": [
    "To drop rows win NAs,\n",
    "\n",
    "By default, `na.drop()` takes `how='any'` and `thres=0` as values. This means that rows having any column as null will get removed."
   ]
  },
  {
   "cell_type": "code",
   "execution_count": 54,
   "metadata": {},
   "outputs": [
    {
     "name": "stdout",
     "output_type": "stream",
     "text": [
      "+--------------------+-----------+--------------------+--------------------+--------------------+--------------------+--------------------+--------------------+-----------------+----------------+------------------+\n",
      "|               Title|ReleaseYear|           Locations|            FunFacts|   ProductionCompany|         Distributor|            Director|              Writer|           Actor1|          Actor2|            Actor3|\n",
      "+--------------------+-----------+--------------------+--------------------+--------------------+--------------------+--------------------+--------------------+-----------------+----------------+------------------+\n",
      "|  After the Thin Man|       1936|          Coit Tower|The Tower was fun...| Metro-Goldwyn Mayer| Metro-Goldwyn Mayer|       W.S. Van Dyke|    Frances Goodrich|   William Powell|       Myrna Loy|     James Stewart|\n",
      "|      Basic Instinct|       1992|Transbay Terminal...|Built in 1939, th...|    Carolco Pictures|    TriStar Pictures|      Paul Verhoeven|       Joe Eszterhas|  Michael Douglas|    Sharon Stone|    George Dzundza|\n",
      "|      Basic Instinct|       1992|Steinhart Aquariu...|The Steinhart Aqu...|    Carolco Pictures|    TriStar Pictures|      Paul Verhoeven|       Joe Eszterhas|  Michael Douglas|    Sharon Stone|    George Dzundza|\n",
      "|      Basic Instinct|       1992|           Chinatown|First established...|    Carolco Pictures|    TriStar Pictures|      Paul Verhoeven|       Joe Eszterhas|  Michael Douglas|    Sharon Stone|    George Dzundza|\n",
      "|           Bedazzled|       2000|Vaillancourt Foun...|\"Installed in 197...| artist Armand Va...| Vaillancourt jum...|Twentieth Century...|Twentieth Century...|     Harold Ramis|    Harold Ramis|    Brendan Fraser|\n",
      "|            Superman|       1978|  Golden Gate Bridge|With 23 miles of ...|      Dovemead Films|Warner Bros. Pict...|      Richard Donner|        Jerry Siegel|Christopher Reeve|    Gene Hackman|     Marlon Brando|\n",
      "|            The Game|       1997|          Bay Bridge|Before opening in...|Polygram Filmed E...|Polygram Filmed E...|       David Fincher|       John Brancato|  Michael Douglas|       Sean Penn|Deborah Kara Unger|\n",
      "|    The Caine Mutiny|       1954|  Golden Gate Bridge|With 23 miles of ...|Stanley Kramer Pr...|   Columbia Pictures|      Edward Dmytryk|     Stanley Roberts|  Humphrey Bogart|  Fred MacMurray|       Jose Ferrer|\n",
      "|             Copycat|       1995|          Twin Peaks|\"The 2nd highest ...|\"\" but in the 19t...| it was renamed \"...| Regency Enterprises|Warner Bros. Pict...|        Jon Amiel|    Ann Biderman|  Sigourney Weaver|\n",
      "|Interview With Th...|       1994|  Golden Gate Bridge|With 23 miles of ...|     Geffen Pictures|     Geffen Pictures|         Neil Jordan|           Anne Rice|        Brad Pitt|Christian Slater|        Tom Cruise|\n",
      "|            Pal Joey|       1957|          Coit Tower|The Tower was fun...|Columbia Pictures...|   Columbia Pictures|       George Sidney|    Dorothy Kingsley|    Rita Hayworth|   Frank Sinatra|         Kim Novak|\n",
      "|Star Trek IV: The...|       1986|Marina Green, Mar...|Before the 1906 e...|  Paramount Pictures|  Paramount Pictures|       Leonard Nimoy|       Steve Meerson|  William Shatner|   Leonard Nimoy|      George Takei|\n",
      "|Invasion of the B...|       1978|United Nations Pl...|United Nations Pl...|            Solofilm|      United Artists|      Philip Kaufman|         Jack Finney|Donald Sutherland|   Jeff Goldblum|      Brooke Adams|\n",
      "|               D.O.A|       1950|        Union Square|\"During the Civil...|   Cardinal Pictures|      United Artists|        Rudolph Mate|       Russell Rouse|   Edmond O'Brien|  Pamela Britton|      Luther Adler|\n",
      "|   Sense8 - Season 2|       2016|Julia Morgan Ball...|An extremely popu...|Unpronounceable P...|             Netflix|  Wachowski Siblings|J. Michael Stracz...|    Jamie Clayton|    Daryl Hannah|    Naveen Andrews|\n",
      "|Freebie and the Bean|       1974|Stockton Tunnel (...|Opened in 1914, t...|Warner Bros. Pict...|American Broadcas...|        Richard Rush|      Robert Kaufman|       Alan Arkin|      James Caan|      Loretta Swit|\n",
      "|     The Right Stuff|       1983|           City Hall|The dome of SF's ...|    The Ladd Company|    The Ladd Company|      Philip Kaufman|      Philip Kaufman|      Sam Shepard|     Scott Glenn|         Ed Harris|\n",
      "|Ant-Man and the Wasp|       2018|Telegraph Hill/No...|VFX and B-roll Shots|PYM Particles Pro...|Walt Disney Studi...|         Peyton Reed|       Chris McKenna|        Paul Rudd|Evangeline Lilly|   Michael Douglas|\n",
      "|    Woman on the Run|       1950|835-865 Market St...|The Emporium, a d...|Fidelity Pictures...|  Universal Pictures|       Norman Foster|       Norman Foster|     Ann Sheridan|  Dennis O'Keefe|      Robert Keith|\n",
      "|         Jagged Edge|       1985|  Golden Gate Bridge|With 23 miles of ...|Columbia Pictures...|   Columbia Pictures|    Richard Marquand|       Joe Eszterhas|      Glenn Close|    Jeff Bridges|      Peter Coyote|\n",
      "+--------------------+-----------+--------------------+--------------------+--------------------+--------------------+--------------------+--------------------+-----------------+----------------+------------------+\n",
      "only showing top 20 rows\n",
      "\n"
     ]
    }
   ],
   "source": [
    "df_practice.na.drop().show()"
   ]
  },
  {
   "cell_type": "markdown",
   "metadata": {},
   "source": [
    "`how` can have two values `any` or `all`.\n",
    "\n",
    "As for `thres`, it assigns the minimum number of **non-null** values that a row can have in order to drop it.\n",
    "In the following code, any row having less than 2 **non-null** value will be removed."
   ]
  },
  {
   "cell_type": "code",
   "execution_count": 50,
   "metadata": {},
   "outputs": [
    {
     "name": "stdout",
     "output_type": "stream",
     "text": [
      "+--------------------+-----------+--------------------+--------+--------------------+---------------+--------------------+--------------------+-------------+------------+--------------------+\n",
      "|               Title|ReleaseYear|           Locations|FunFacts|   ProductionCompany|    Distributor|            Director|              Writer|       Actor1|      Actor2|              Actor3|\n",
      "+--------------------+-----------+--------------------+--------+--------------------+---------------+--------------------+--------------------+-------------+------------+--------------------+\n",
      "|                 180|       2011|Epic Roasthouse (...|    NULL|         SPI Cinemas|           NULL|            Jayendra|Umarji Anuradha, ...|     Siddarth|Nithya Menon|         Priya Anand|\n",
      "|                 180|       2011|Mason & Californi...|    NULL|         SPI Cinemas|           NULL|            Jayendra|Umarji Anuradha, ...|     Siddarth|Nithya Menon|         Priya Anand|\n",
      "|                 180|       2011| Justin Herman Plaza|    NULL|         SPI Cinemas|           NULL|            Jayendra|Umarji Anuradha, ...|     Siddarth|Nithya Menon|         Priya Anand|\n",
      "|                 180|       2011|200 block Market ...|    NULL|         SPI Cinemas|           NULL|            Jayendra|Umarji Anuradha, ...|     Siddarth|Nithya Menon|         Priya Anand|\n",
      "|                 180|       2011|           City Hall|    NULL|         SPI Cinemas|           NULL|            Jayendra|Umarji Anuradha, ...|     Siddarth|Nithya Menon|         Priya Anand|\n",
      "|                 180|       2011|Polk & Larkin Str...|    NULL|         SPI Cinemas|           NULL|            Jayendra|Umarji Anuradha, ...|     Siddarth|Nithya Menon|         Priya Anand|\n",
      "|                 180|       2011|      Randall Museum|    NULL|         SPI Cinemas|           NULL|            Jayendra|Umarji Anuradha, ...|     Siddarth|Nithya Menon|         Priya Anand|\n",
      "|                 180|       2011|      555 Market St.|    NULL|         SPI Cinemas|           NULL|            Jayendra|Umarji Anuradha, ...|     Siddarth|Nithya Menon|         Priya Anand|\n",
      "|24 Hours on Craig...|       2005|                NULL|    NULL|Yerba Buena Produ...|Zealot Pictures|Michael Ferris Gi...|                 N/A|Craig Newmark|        NULL|                NULL|\n",
      "|          Summertime|       2015|       Alamo Square |    NULL|Creative Monster ...| 7 Distribution|    Gabriele Muccino|    Gabriele Muccino|Jessica Rothe|Scott Bakula|Matilda Anna Ingr...|\n",
      "+--------------------+-----------+--------------------+--------+--------------------+---------------+--------------------+--------------------+-------------+------------+--------------------+\n",
      "only showing top 10 rows\n",
      "\n"
     ]
    }
   ],
   "source": [
    "df_practice.na.drop(how='any', thresh=2).show(10)"
   ]
  },
  {
   "cell_type": "markdown",
   "metadata": {},
   "source": [
    "`subset` is another parameter. It is used to specify in which columns to look for null values in order to drop the row.\n",
    "\n",
    "In the following code, only the nulls in column 'Distributor' are considered."
   ]
  },
  {
   "cell_type": "code",
   "execution_count": 55,
   "metadata": {},
   "outputs": [
    {
     "name": "stdout",
     "output_type": "stream",
     "text": [
      "+--------------------+-----------+--------------------+--------------------+--------------------+--------------------+--------------------+--------------------+--------------+--------------------+--------------------+\n",
      "|               Title|ReleaseYear|           Locations|            FunFacts|   ProductionCompany|         Distributor|            Director|              Writer|        Actor1|              Actor2|              Actor3|\n",
      "+--------------------+-----------+--------------------+--------------------+--------------------+--------------------+--------------------+--------------------+--------------+--------------------+--------------------+\n",
      "|24 Hours on Craig...|       2005|                NULL|                NULL|Yerba Buena Produ...|     Zealot Pictures|Michael Ferris Gi...|                 N/A| Craig Newmark|                NULL|                NULL|\n",
      "|          Summertime|       2015|       Alamo Square |                NULL|Creative Monster ...|      7 Distribution|    Gabriele Muccino|    Gabriele Muccino| Jessica Rothe|        Scott Bakula|Matilda Anna Ingr...|\n",
      "|    Ballers Season 3|       2017|San Remo Hotel (2...|                NULL|Chori Perros Prod...|                 HBO|       Julian Farino|    Stephen Levinson|Dwayne Johnson|John David Washin...|  Omar Benson Miller|\n",
      "|     Chance Season 2|       2017|Waller St between...|                NULL|TVM Productions Inc.|                Hulu|       Rozann Dawson|Alexandra Cunningham|   Hugh Laurie|           Greta Lee|        Ethan Suplee|\n",
      "|     Chance Season 2|       2017|Palace of Fine Ar...|                NULL|TVM Productions Inc.|                Hulu|       Rozann Dawson|Alexandra Cunningham|   Hugh Laurie|           Greta Lee|        Ethan Suplee|\n",
      "|A Night Full of Rain|       1978| Embarcadero Freeway|Embarcadero Freew...|        Liberty Film|Warner Bros. Pict...|     Lina Wertmuller|     Lina Wertmuller|Candice Bergen|    Giancarlo Gianni|                NULL|\n",
      "|A Night Full of Rain|       1978|Fairmont Hotel (9...|In 1945 the Fairm...|        Liberty Film|Warner Bros. Pict...|     Lina Wertmuller|     Lina Wertmuller|Candice Bergen|    Giancarlo Gianni|                NULL|\n",
      "|A Night Full of Rain|       1978|San Francisco Chr...|The San Francisco...|        Liberty Film|Warner Bros. Pict...|     Lina Wertmuller|     Lina Wertmuller|Candice Bergen|    Giancarlo Gianni|                NULL|\n",
      "|A Night Full of Rain|       1978|Broadway (North B...|                NULL|        Liberty Film|Warner Bros. Pict...|     Lina Wertmuller|     Lina Wertmuller|Candice Bergen|    Giancarlo Gianni|                NULL|\n",
      "|     Chance Season 2|       2017|20th St between C...|                NULL|TVM Productions Inc.|                Hulu|       Rozann Dawson|Alexandra Cunningham|   Hugh Laurie|           Greta Lee|        Ethan Suplee|\n",
      "+--------------------+-----------+--------------------+--------------------+--------------------+--------------------+--------------------+--------------------+--------------+--------------------+--------------------+\n",
      "only showing top 10 rows\n",
      "\n"
     ]
    }
   ],
   "source": [
    "df_practice.na.drop(how='any', subset=['Distributor']).show(10)"
   ]
  },
  {
   "cell_type": "markdown",
   "metadata": {},
   "source": [
    "Now, to fill missing values, we use `na.fill()`.\n",
    "\n",
    "The following code fills the nulls in columns 'Locations' and 'Distributor' with 'N/A'."
   ]
  },
  {
   "cell_type": "code",
   "execution_count": 56,
   "metadata": {},
   "outputs": [
    {
     "name": "stdout",
     "output_type": "stream",
     "text": [
      "+--------------------+-----------+--------------------+--------+--------------------+---------------+--------------------+--------------------+-------------+------------+--------------------+\n",
      "|               Title|ReleaseYear|           Locations|FunFacts|   ProductionCompany|    Distributor|            Director|              Writer|       Actor1|      Actor2|              Actor3|\n",
      "+--------------------+-----------+--------------------+--------+--------------------+---------------+--------------------+--------------------+-------------+------------+--------------------+\n",
      "|                 180|       2011|Epic Roasthouse (...|    NULL|         SPI Cinemas|            N/A|            Jayendra|Umarji Anuradha, ...|     Siddarth|Nithya Menon|         Priya Anand|\n",
      "|                 180|       2011|Mason & Californi...|    NULL|         SPI Cinemas|            N/A|            Jayendra|Umarji Anuradha, ...|     Siddarth|Nithya Menon|         Priya Anand|\n",
      "|                 180|       2011| Justin Herman Plaza|    NULL|         SPI Cinemas|            N/A|            Jayendra|Umarji Anuradha, ...|     Siddarth|Nithya Menon|         Priya Anand|\n",
      "|                 180|       2011|200 block Market ...|    NULL|         SPI Cinemas|            N/A|            Jayendra|Umarji Anuradha, ...|     Siddarth|Nithya Menon|         Priya Anand|\n",
      "|                 180|       2011|           City Hall|    NULL|         SPI Cinemas|            N/A|            Jayendra|Umarji Anuradha, ...|     Siddarth|Nithya Menon|         Priya Anand|\n",
      "|                 180|       2011|Polk & Larkin Str...|    NULL|         SPI Cinemas|            N/A|            Jayendra|Umarji Anuradha, ...|     Siddarth|Nithya Menon|         Priya Anand|\n",
      "|                 180|       2011|      Randall Museum|    NULL|         SPI Cinemas|            N/A|            Jayendra|Umarji Anuradha, ...|     Siddarth|Nithya Menon|         Priya Anand|\n",
      "|                 180|       2011|      555 Market St.|    NULL|         SPI Cinemas|            N/A|            Jayendra|Umarji Anuradha, ...|     Siddarth|Nithya Menon|         Priya Anand|\n",
      "|24 Hours on Craig...|       2005|                 N/A|    NULL|Yerba Buena Produ...|Zealot Pictures|Michael Ferris Gi...|                 N/A|Craig Newmark|        NULL|                NULL|\n",
      "|          Summertime|       2015|       Alamo Square |    NULL|Creative Monster ...| 7 Distribution|    Gabriele Muccino|    Gabriele Muccino|Jessica Rothe|Scott Bakula|Matilda Anna Ingr...|\n",
      "+--------------------+-----------+--------------------+--------+--------------------+---------------+--------------------+--------------------+-------------+------------+--------------------+\n",
      "only showing top 10 rows\n",
      "\n"
     ]
    }
   ],
   "source": [
    "df_practice.na.fill('N/A', ['Locations', 'Distributor']).show(10)"
   ]
  },
  {
   "cell_type": "markdown",
   "metadata": {},
   "source": [
    "Now, we will fill in the missing values with an imputer.\n",
    "\n",
    "First, we import the imputer from PySpark library."
   ]
  },
  {
   "cell_type": "code",
   "execution_count": 10,
   "metadata": {},
   "outputs": [],
   "source": [
    "from pyspark.ml.feature import Imputer"
   ]
  },
  {
   "cell_type": "markdown",
   "metadata": {},
   "source": [
    "Then, we create an imputer instance,\n",
    "\n",
    "**N.B.** `Strategy` can be `mean`, `mode`, `median`. You can read more in this [link](https://spark.apache.org/docs/latest/api/python/reference/api/pyspark.ml.feature.Imputer.html)."
   ]
  },
  {
   "cell_type": "code",
   "execution_count": 73,
   "metadata": {},
   "outputs": [],
   "source": [
    "imputer = Imputer(\n",
    "    inputCols=['Title', 'ReleaseYear', 'ProductionCompany', 'Director', 'Distributor', 'Writer'],\n",
    "    outputCols=[\"{}_imputed\".format(c) for c in ['Title', 'ReleaseYear', 'ProductionCompany', 'Director', 'Distributor', 'Writer']]\n",
    ").setStrategy(\"mode\")"
   ]
  },
  {
   "cell_type": "markdown",
   "metadata": {},
   "source": [
    "The previous code will produce an error since imputer works with numerical values. The previous code serves only as an example to how we can create an imputer instance.\n",
    "\n",
    "In the following code, we introduce another, and maybe better, way.\n",
    "\n",
    "We start by first creating an instance."
   ]
  },
  {
   "cell_type": "code",
   "execution_count": 37,
   "metadata": {},
   "outputs": [],
   "source": [
    "model = Imputer()\n",
    "# print(model.getInputCols()) will produce an error since InputCols is not specified yet."
   ]
  },
  {
   "cell_type": "markdown",
   "metadata": {},
   "source": [
    "Then, we can set the parameter of our model."
   ]
  },
  {
   "cell_type": "code",
   "execution_count": 38,
   "metadata": {},
   "outputs": [
    {
     "data": {
      "text/plain": [
       "Imputer_f09c57f735af"
      ]
     },
     "execution_count": 38,
     "metadata": {},
     "output_type": "execute_result"
    }
   ],
   "source": [
    "# Method 1\n",
    "model.setInputCols(['ReleaseYear'])\n",
    "model.setOutputCols(['ReleaseYear_Imputed'])\n",
    "model.setStrategy('mean')"
   ]
  },
  {
   "cell_type": "code",
   "execution_count": 68,
   "metadata": {},
   "outputs": [
    {
     "data": {
      "text/plain": [
       "Imputer_f09c57f735af"
      ]
     },
     "execution_count": 68,
     "metadata": {},
     "output_type": "execute_result"
    }
   ],
   "source": [
    "# Method 2\n",
    "model.setParams(inputCols=['ReleaseYear'], outputCols=['ReleaseYear_Imputed'], strategy='mean')"
   ]
  },
  {
   "cell_type": "code",
   "execution_count": 70,
   "metadata": {},
   "outputs": [
    {
     "data": {
      "text/plain": [
       "{Param(parent='Imputer_f09c57f735af', name='inputCols', doc='input column names.'): ['ReleaseYear'],\n",
       " Param(parent='Imputer_f09c57f735af', name='outputCols', doc='output column names.'): ['ReleaseYear_Imputed'],\n",
       " Param(parent='Imputer_f09c57f735af', name='strategy', doc='strategy for imputation. If mean, then replace missing values using the mean value of the feature. If median, then replace missing values using the median value of the feature. If mode, then replace missing using the most frequent value of the feature.'): 'mean'}"
      ]
     },
     "execution_count": 70,
     "metadata": {},
     "output_type": "execute_result"
    }
   ],
   "source": [
    "# Check Params\n",
    "model._paramMap"
   ]
  },
  {
   "cell_type": "markdown",
   "metadata": {},
   "source": [
    "Now, we fit and transform the data."
   ]
  },
  {
   "cell_type": "code",
   "execution_count": 71,
   "metadata": {},
   "outputs": [],
   "source": [
    "# We first cast to int\n",
    "df_imputer = df_practice.withColumn('ReleaseYear', df_practice.ReleaseYear.cast('int'))"
   ]
  },
  {
   "cell_type": "code",
   "execution_count": 78,
   "metadata": {},
   "outputs": [
    {
     "data": {
      "text/plain": [
       "ImputerModel: uid=Imputer_f09c57f735af, strategy=mean, missingValue=NaN, numInputCols=1, numOutputCols=1"
      ]
     },
     "execution_count": 78,
     "metadata": {},
     "output_type": "execute_result"
    }
   ],
   "source": [
    "# Then, fit\n",
    "model.fit(df_imputer)"
   ]
  },
  {
   "cell_type": "code",
   "execution_count": null,
   "metadata": {},
   "outputs": [],
   "source": [
    "# And, transform\n",
    "# The following code will not work since there are no missing values\n",
    "model.surrogateDF.show()\n",
    "model.transform(df_imputer).show()"
   ]
  },
  {
   "cell_type": "markdown",
   "metadata": {},
   "source": [
    "## Filtering Operations"
   ]
  },
  {
   "cell_type": "markdown",
   "metadata": {},
   "source": [
    "In the following example, we want to retrieve the movies released in 1930 or before."
   ]
  },
  {
   "cell_type": "code",
   "execution_count": 87,
   "metadata": {},
   "outputs": [
    {
     "name": "stdout",
     "output_type": "stream",
     "text": [
      "+------------------+-----------+\n",
      "|Title             |ReleaseYear|\n",
      "+------------------+-----------+\n",
      "|Greed             |1924       |\n",
      "|Greed             |1924       |\n",
      "|A Jitney Elopement|1915       |\n",
      "|Greed             |1924       |\n",
      "|A Jitney Elopement|1915       |\n",
      "|The Jazz Singer   |1927       |\n",
      "|A Jitney Elopement|1915       |\n",
      "|Greed             |1924       |\n",
      "|Greed             |1924       |\n",
      "|Greed             |1924       |\n",
      "|The Jazz Singer   |1927       |\n",
      "|A Jitney Elopement|1915       |\n",
      "+------------------+-----------+\n",
      "\n"
     ]
    }
   ],
   "source": [
    "df_practice.filter(\"ReleaseYear<=1930\").select(['Title', 'ReleaseYear']).show(truncate=False)"
   ]
  },
  {
   "cell_type": "markdown",
   "metadata": {},
   "source": [
    "Another way,"
   ]
  },
  {
   "cell_type": "code",
   "execution_count": 88,
   "metadata": {},
   "outputs": [
    {
     "name": "stdout",
     "output_type": "stream",
     "text": [
      "+------------------+-----------+\n",
      "|Title             |ReleaseYear|\n",
      "+------------------+-----------+\n",
      "|Greed             |1924       |\n",
      "|Greed             |1924       |\n",
      "|A Jitney Elopement|1915       |\n",
      "|Greed             |1924       |\n",
      "|A Jitney Elopement|1915       |\n",
      "|The Jazz Singer   |1927       |\n",
      "|A Jitney Elopement|1915       |\n",
      "|Greed             |1924       |\n",
      "|Greed             |1924       |\n",
      "|Greed             |1924       |\n",
      "|The Jazz Singer   |1927       |\n",
      "|A Jitney Elopement|1915       |\n",
      "+------------------+-----------+\n",
      "\n"
     ]
    }
   ],
   "source": [
    "df_practice.filter(df_practice[\"ReleaseYear\"]<=1930).select(['Title', 'ReleaseYear']).show(truncate=False)"
   ]
  },
  {
   "cell_type": "markdown",
   "metadata": {},
   "source": [
    "If we want to apply several filters, for example we want films released after 1915 and before 1930, we can do"
   ]
  },
  {
   "cell_type": "code",
   "execution_count": 95,
   "metadata": {},
   "outputs": [
    {
     "name": "stdout",
     "output_type": "stream",
     "text": [
      "+---------------+-----------+\n",
      "|Title          |ReleaseYear|\n",
      "+---------------+-----------+\n",
      "|Greed          |1924       |\n",
      "|Greed          |1924       |\n",
      "|Greed          |1924       |\n",
      "|The Jazz Singer|1927       |\n",
      "|Greed          |1924       |\n",
      "|Greed          |1924       |\n",
      "|Greed          |1924       |\n",
      "|The Jazz Singer|1927       |\n",
      "+---------------+-----------+\n",
      "\n"
     ]
    }
   ],
   "source": [
    "df_practice.filter((df_practice[\"ReleaseYear\"]<1930) & (df_practice[\"ReleaseYear\"]>1915)).select(['Title', 'ReleaseYear']).show(truncate=False)"
   ]
  },
  {
   "cell_type": "markdown",
   "metadata": {},
   "source": [
    "If we want movies released in 1999,"
   ]
  },
  {
   "cell_type": "code",
   "execution_count": 103,
   "metadata": {},
   "outputs": [
    {
     "name": "stdout",
     "output_type": "stream",
     "text": [
      "+-----------------+-----------+\n",
      "|Title            |ReleaseYear|\n",
      "+-----------------+-----------+\n",
      "|Bicentennial Man |1999       |\n",
      "|Bicentennial Man |1999       |\n",
      "|Bicentennial Man |1999       |\n",
      "|Bicentennial Man |1999       |\n",
      "|Bicentennial Man |1999       |\n",
      "|The Bachelor     |1999       |\n",
      "|Edtv             |1999       |\n",
      "|The Bachelor     |1999       |\n",
      "|The Bachelor     |1999       |\n",
      "|Seven Girlfriends|1999       |\n",
      "|Edtv             |1999       |\n",
      "|Stigmata         |1999       |\n",
      "|The Bachelor     |1999       |\n",
      "|Edtv             |1999       |\n",
      "|The Bachelor     |1999       |\n",
      "|The Bachelor     |1999       |\n",
      "|The Bachelor     |1999       |\n",
      "|The Bachelor     |1999       |\n",
      "|The Bachelor     |1999       |\n",
      "|The Bachelor     |1999       |\n",
      "+-----------------+-----------+\n",
      "only showing top 20 rows\n",
      "\n"
     ]
    }
   ],
   "source": [
    "df_practice.filter(df_practice[\"ReleaseYear\"]==1999).select(['Title', 'ReleaseYear']).show(truncate=False)"
   ]
  },
  {
   "cell_type": "markdown",
   "metadata": {},
   "source": [
    "If now we want movies that were **not** released in 1999,"
   ]
  },
  {
   "cell_type": "code",
   "execution_count": 104,
   "metadata": {},
   "outputs": [
    {
     "name": "stdout",
     "output_type": "stream",
     "text": [
      "+----------------------+-----------+\n",
      "|Title                 |ReleaseYear|\n",
      "+----------------------+-----------+\n",
      "|180                   |2011       |\n",
      "|180                   |2011       |\n",
      "|180                   |2011       |\n",
      "|180                   |2011       |\n",
      "|180                   |2011       |\n",
      "|180                   |2011       |\n",
      "|180                   |2011       |\n",
      "|180                   |2011       |\n",
      "|24 Hours on Craigslist|2005       |\n",
      "|Summertime            |2015       |\n",
      "|Ballers Season 3      |2017       |\n",
      "|Chance Season 2       |2017       |\n",
      "|Chance Season 2       |2017       |\n",
      "|A Night Full of Rain  |1978       |\n",
      "|A Night Full of Rain  |1978       |\n",
      "|A Night Full of Rain  |1978       |\n",
      "|A Night Full of Rain  |1978       |\n",
      "|Chance Season 2       |2017       |\n",
      "|Vegas in Space        |1992       |\n",
      "|Vegas in Space        |1992       |\n",
      "+----------------------+-----------+\n",
      "only showing top 20 rows\n",
      "\n"
     ]
    }
   ],
   "source": [
    "# Method 1\n",
    "df_practice.filter(df_practice[\"ReleaseYear\"]!=1999).select(['Title', 'ReleaseYear']).show(truncate=False)"
   ]
  },
  {
   "cell_type": "code",
   "execution_count": 105,
   "metadata": {},
   "outputs": [
    {
     "name": "stdout",
     "output_type": "stream",
     "text": [
      "+----------------------+-----------+\n",
      "|Title                 |ReleaseYear|\n",
      "+----------------------+-----------+\n",
      "|180                   |2011       |\n",
      "|180                   |2011       |\n",
      "|180                   |2011       |\n",
      "|180                   |2011       |\n",
      "|180                   |2011       |\n",
      "|180                   |2011       |\n",
      "|180                   |2011       |\n",
      "|180                   |2011       |\n",
      "|24 Hours on Craigslist|2005       |\n",
      "|Summertime            |2015       |\n",
      "|Ballers Season 3      |2017       |\n",
      "|Chance Season 2       |2017       |\n",
      "|Chance Season 2       |2017       |\n",
      "|A Night Full of Rain  |1978       |\n",
      "|A Night Full of Rain  |1978       |\n",
      "|A Night Full of Rain  |1978       |\n",
      "|A Night Full of Rain  |1978       |\n",
      "|Chance Season 2       |2017       |\n",
      "|Vegas in Space        |1992       |\n",
      "|Vegas in Space        |1992       |\n",
      "+----------------------+-----------+\n",
      "only showing top 20 rows\n",
      "\n"
     ]
    }
   ],
   "source": [
    "# Method 2\n",
    "df_practice.filter(~(df_practice[\"ReleaseYear\"]==1999)).select(['Title', 'ReleaseYear']).show(truncate=False)"
   ]
  },
  {
   "cell_type": "markdown",
   "metadata": {},
   "source": [
    "## Groupby and Aggregate Operations"
   ]
  },
  {
   "cell_type": "markdown",
   "metadata": {},
   "source": [
    "In the following, we want to count how many movies were filmed in each location. We use the `groupBy()` method to group the titles by location, then we use the `count()` method to count the number of movies."
   ]
  },
  {
   "cell_type": "code",
   "execution_count": 120,
   "metadata": {},
   "outputs": [
    {
     "name": "stdout",
     "output_type": "stream",
     "text": [
      "+--------------------+-----+\n",
      "|           Locations|count|\n",
      "+--------------------+-----+\n",
      "|Roxie Theater (31...|    2|\n",
      "|        Nobles Alley|    2|\n",
      "|          Bay Bridge|   18|\n",
      "|San Francisco Zoo...|    2|\n",
      "|Filbert between H...|    2|\n",
      "|  1160 Taylor Street|    2|\n",
      "|Bank of America (...|    2|\n",
      "|Francisco St from...|    2|\n",
      "|Firestation #38 (...|    2|\n",
      "|              Pier 5|    1|\n",
      "|Way Faire Inn on ...|    2|\n",
      "|Embarcadero & Was...|    2|\n",
      "|Atlas Café, 3049 ...|    2|\n",
      "|        AT&T Stadium|    4|\n",
      "|       883 42nd Ave.|    2|\n",
      "|5th Ave @ Fulton ...|    2|\n",
      "|Grant Avenue betw...|    2|\n",
      "|Pine between Kear...|    2|\n",
      "|  Broadway & Sansome|    2|\n",
      "|        Dolores Park|    6|\n",
      "+--------------------+-----+\n",
      "only showing top 20 rows\n",
      "\n"
     ]
    }
   ],
   "source": [
    "df_practice.groupBy('Locations').count().show()"
   ]
  },
  {
   "cell_type": "markdown",
   "metadata": {},
   "source": [
    "If we, want to see the last time a movie was filmed in that location, we first need to cast 'ReleaseYear' to `int`, then use the `max()` method."
   ]
  },
  {
   "cell_type": "code",
   "execution_count": 121,
   "metadata": {},
   "outputs": [
    {
     "name": "stdout",
     "output_type": "stream",
     "text": [
      "+--------------------+----------------+\n",
      "|           Locations|max(ReleaseYear)|\n",
      "+--------------------+----------------+\n",
      "|Roxie Theater (31...|            2015|\n",
      "|        Nobles Alley|            2014|\n",
      "|          Bay Bridge|            2017|\n",
      "|San Francisco Zoo...|            1967|\n",
      "|Filbert between H...|            2016|\n",
      "|  1160 Taylor Street|            2010|\n",
      "|Bank of America (...|            1969|\n",
      "|Francisco St from...|            2012|\n",
      "|Firestation #38 (...|            1974|\n",
      "|              Pier 5|            2018|\n",
      "|Way Faire Inn on ...|            2014|\n",
      "|Embarcadero & Was...|            2014|\n",
      "|Atlas Café, 3049 ...|            2015|\n",
      "|        AT&T Stadium|            2015|\n",
      "|       883 42nd Ave.|            2015|\n",
      "|5th Ave @ Fulton ...|            2016|\n",
      "|Grant Avenue betw...|            2016|\n",
      "|Pine between Kear...|            2015|\n",
      "|  Broadway & Sansome|            2014|\n",
      "|        Dolores Park|            2019|\n",
      "+--------------------+----------------+\n",
      "only showing top 20 rows\n",
      "\n"
     ]
    }
   ],
   "source": [
    "df_practice.withColumn('ReleaseYear', df_practice.ReleaseYear.cast('int')).groupBy('Locations').max().show()"
   ]
  }
 ],
 "metadata": {
  "kernelspec": {
   "display_name": "base",
   "language": "python",
   "name": "python3"
  },
  "language_info": {
   "codemirror_mode": {
    "name": "ipython",
    "version": 3
   },
   "file_extension": ".py",
   "mimetype": "text/x-python",
   "name": "python",
   "nbconvert_exporter": "python",
   "pygments_lexer": "ipython3",
   "version": "3.11.4"
  }
 },
 "nbformat": 4,
 "nbformat_minor": 2
}
